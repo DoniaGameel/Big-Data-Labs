{
  "nbformat": 4,
  "nbformat_minor": 0,
  "metadata": {
    "colab": {
      "provenance": []
    },
    "kernelspec": {
      "name": "python3",
      "display_name": "Python 3"
    },
    "language_info": {
      "name": "python"
    }
  },
  "cells": [
    {
      "cell_type": "markdown",
      "source": [
        "## Students info:\n",
        "1. Name: Donia Gameel Mahmoud\n",
        "\n",
        "   ID: 9202523\n",
        "\n",
        "2. Name: Heba Ashraf Raslan\n",
        "\n",
        "   ID: 9203667"
      ],
      "metadata": {
        "id": "E7oox_mqnlFx"
      }
    },
    {
      "cell_type": "code",
      "source": [
        "from google.colab import drive\n",
        "drive.mount('/content/drive')"
      ],
      "metadata": {
        "colab": {
          "base_uri": "https://localhost:8080/"
        },
        "id": "lNCRt_47m1nW",
        "outputId": "c428e50e-f0ce-4584-914f-b0683937f18f"
      },
      "execution_count": 35,
      "outputs": [
        {
          "output_type": "stream",
          "name": "stdout",
          "text": [
            "Drive already mounted at /content/drive; to attempt to forcibly remount, call drive.mount(\"/content/drive\", force_remount=True).\n"
          ]
        }
      ]
    },
    {
      "cell_type": "code",
      "source": [
        "import os\n",
        "os.chdir(\"/content/drive/My Drive\")"
      ],
      "metadata": {
        "id": "fTYuM64kdnq5"
      },
      "execution_count": 4,
      "outputs": []
    },
    {
      "cell_type": "code",
      "source": [
        "import zipfile\n",
        "\n",
        "# Specify the name of your .zip file\n",
        "zip_file_name = \"in.zip\"\n",
        "\n",
        "# Specify the directory where you want to extract the contents\n",
        "extract_to_directory = \"/content/drive/My Drive\"\n",
        "\n",
        "with zipfile.ZipFile(zip_file_name, 'r') as zip_ref:\n",
        "    zip_ref.extractall(extract_to_directory)"
      ],
      "metadata": {
        "id": "NFw2zu9Sdzy1"
      },
      "execution_count": 5,
      "outputs": []
    },
    {
      "cell_type": "code",
      "source": [
        "!pip install pyspark"
      ],
      "metadata": {
        "colab": {
          "base_uri": "https://localhost:8080/"
        },
        "id": "rtXVozeneB98",
        "outputId": "259c76c5-f106-4b79-a214-d10c3cdae458"
      },
      "execution_count": 6,
      "outputs": [
        {
          "output_type": "stream",
          "name": "stdout",
          "text": [
            "Collecting pyspark\n",
            "  Downloading pyspark-3.5.1.tar.gz (317.0 MB)\n",
            "\u001b[2K     \u001b[90m━━━━━━━━━━━━━━━━━━━━━━━━━━━━━━━━━━━━━━━━\u001b[0m \u001b[32m317.0/317.0 MB\u001b[0m \u001b[31m1.2 MB/s\u001b[0m eta \u001b[36m0:00:00\u001b[0m\n",
            "\u001b[?25h  Preparing metadata (setup.py) ... \u001b[?25l\u001b[?25hdone\n",
            "Requirement already satisfied: py4j==0.10.9.7 in /usr/local/lib/python3.10/dist-packages (from pyspark) (0.10.9.7)\n",
            "Building wheels for collected packages: pyspark\n",
            "  Building wheel for pyspark (setup.py) ... \u001b[?25l\u001b[?25hdone\n",
            "  Created wheel for pyspark: filename=pyspark-3.5.1-py2.py3-none-any.whl size=317488493 sha256=df63856b0b232d20584707b2308f117bdd2808f2dd9d3b18881a0231191dfbcf\n",
            "  Stored in directory: /root/.cache/pip/wheels/80/1d/60/2c256ed38dddce2fdd93be545214a63e02fbd8d74fb0b7f3a6\n",
            "Successfully built pyspark\n",
            "Installing collected packages: pyspark\n",
            "Successfully installed pyspark-3.5.1\n"
          ]
        }
      ]
    },
    {
      "cell_type": "code",
      "source": [
        "import findspark\n",
        "findspark.init()"
      ],
      "metadata": {
        "id": "WNIm9SWeeC7U"
      },
      "execution_count": 9,
      "outputs": []
    },
    {
      "cell_type": "code",
      "source": [
        "from pyspark.sql import SparkSession\n",
        "from pyspark.conf import SparkConf"
      ],
      "metadata": {
        "id": "BKJGTU6ceFpJ"
      },
      "execution_count": 8,
      "outputs": []
    },
    {
      "cell_type": "code",
      "source": [
        "spark=SparkSession.builder\\\n",
        "    .master(\"local[*]\")\\\n",
        "    .appName(\"prepaidCount\")\\\n",
        "    .getOrCreate()"
      ],
      "metadata": {
        "id": "__IYr-w5eHlt"
      },
      "execution_count": 10,
      "outputs": []
    },
    {
      "cell_type": "code",
      "source": [
        "sc=spark.sparkContext"
      ],
      "metadata": {
        "id": "gBzCO_v0eJz9"
      },
      "execution_count": 11,
      "outputs": []
    },
    {
      "cell_type": "code",
      "source": [
        "input_csv=\"in.csv\""
      ],
      "metadata": {
        "id": "0NNCA_abfGXM"
      },
      "execution_count": 13,
      "outputs": []
    },
    {
      "cell_type": "code",
      "source": [
        "vodafone_rdd=sc.textFile(input_csv)"
      ],
      "metadata": {
        "id": "mLQqofzefN6c"
      },
      "execution_count": 17,
      "outputs": []
    },
    {
      "cell_type": "code",
      "source": [
        "vodafone_rdd.take(100) # line by line"
      ],
      "metadata": {
        "colab": {
          "base_uri": "https://localhost:8080/"
        },
        "id": "kH6t4_bgfwty",
        "outputId": "24d607be-eaf3-456a-d92c-ffb9a8c10268"
      },
      "execution_count": 18,
      "outputs": [
        {
          "output_type": "execute_result",
          "data": {
            "text/plain": [
              "['224,10',\n",
              " '836,100',\n",
              " '81,5',\n",
              " '809,50',\n",
              " '786,25',\n",
              " '63,5',\n",
              " '478,25',\n",
              " '330,10',\n",
              " '511,15',\n",
              " '450,25',\n",
              " '521,25',\n",
              " '150,50',\n",
              " '671,5',\n",
              " '971,5',\n",
              " '439,10',\n",
              " '536,50',\n",
              " '253,5',\n",
              " '425,15',\n",
              " '638,50',\n",
              " '841,10',\n",
              " '324,10',\n",
              " '125,50',\n",
              " '937,15',\n",
              " '898,5',\n",
              " '461,50',\n",
              " '295,10',\n",
              " '683,10',\n",
              " '331,25',\n",
              " '187,15',\n",
              " '873,100',\n",
              " '303,50',\n",
              " '119,5',\n",
              " '589,100',\n",
              " '742,15',\n",
              " '81,25',\n",
              " '47,100',\n",
              " '521,50',\n",
              " '617,15',\n",
              " '228,5',\n",
              " '891,15',\n",
              " '107,10',\n",
              " '59,25',\n",
              " '526,100',\n",
              " '461,15',\n",
              " '426,100',\n",
              " '389,25',\n",
              " '114,5',\n",
              " '866,5',\n",
              " '592,50',\n",
              " '452,100',\n",
              " '210,5',\n",
              " '607,15',\n",
              " '628,100',\n",
              " '500,25',\n",
              " '815,25',\n",
              " '358,25',\n",
              " '832,50',\n",
              " '667,5',\n",
              " '708,5',\n",
              " '568,5',\n",
              " '536,15',\n",
              " '775,100',\n",
              " '280,25',\n",
              " '227,5',\n",
              " '461,100',\n",
              " '462,25',\n",
              " '3,100',\n",
              " '410,10',\n",
              " '67,5',\n",
              " '872,5',\n",
              " '589,25',\n",
              " '488,50',\n",
              " '601,50',\n",
              " '393,5',\n",
              " '148,15',\n",
              " '75,50',\n",
              " '742,10',\n",
              " '177,25',\n",
              " '875,15',\n",
              " '121,50',\n",
              " '38,50',\n",
              " '445,100',\n",
              " '87,50',\n",
              " '730,15',\n",
              " '552,10',\n",
              " '790,10',\n",
              " '653,100',\n",
              " '586,15',\n",
              " '400,100',\n",
              " '994,15',\n",
              " '110,100',\n",
              " '84,25',\n",
              " '92,25',\n",
              " '81,5',\n",
              " '35,15',\n",
              " '549,25',\n",
              " '871,15',\n",
              " '595,5',\n",
              " '453,5',\n",
              " '140,25']"
            ]
          },
          "metadata": {},
          "execution_count": 18
        }
      ]
    },
    {
      "cell_type": "code",
      "source": [
        "vodafone_rdd.count() ## number of lines"
      ],
      "metadata": {
        "colab": {
          "base_uri": "https://localhost:8080/"
        },
        "id": "G488daGrf8UY",
        "outputId": "0cc0bb3e-8c93-4480-c6bd-18e075ac72d5"
      },
      "execution_count": 19,
      "outputs": [
        {
          "output_type": "execute_result",
          "data": {
            "text/plain": [
              "75000000"
            ]
          },
          "metadata": {},
          "execution_count": 19
        }
      ]
    },
    {
      "cell_type": "code",
      "source": [
        "vodafone_mapper = vodafone_rdd.map(lambda line: (int(line.split(',')[0]), int(line.split(',')[1])))"
      ],
      "metadata": {
        "id": "zJbdpCFjgUyf"
      },
      "execution_count": 26,
      "outputs": []
    },
    {
      "cell_type": "code",
      "source": [
        "vodafone_mapper.take(5)"
      ],
      "metadata": {
        "colab": {
          "base_uri": "https://localhost:8080/"
        },
        "id": "UAJHJKx6hUVZ",
        "outputId": "289f7eee-ac5e-4083-f567-d2dd325f521a"
      },
      "execution_count": 27,
      "outputs": [
        {
          "output_type": "execute_result",
          "data": {
            "text/plain": [
              "[(224, 10), (836, 100), (81, 5), (809, 50), (786, 25)]"
            ]
          },
          "metadata": {},
          "execution_count": 27
        }
      ]
    },
    {
      "cell_type": "code",
      "source": [
        "vodafone_reducer=vodafone_mapper.reduceByKey(lambda x,y:(x+y)).sortByKey()"
      ],
      "metadata": {
        "id": "7SCHzJF9hZe-"
      },
      "execution_count": 28,
      "outputs": []
    },
    {
      "cell_type": "code",
      "source": [
        "vodafone_reducer.take(40)"
      ],
      "metadata": {
        "colab": {
          "base_uri": "https://localhost:8080/"
        },
        "id": "Up8SCNx0iA5Y",
        "outputId": "5a943df7-a744-4521-af69-5b94b0af1bc4"
      },
      "execution_count": 29,
      "outputs": [
        {
          "output_type": "execute_result",
          "data": {
            "text/plain": [
              "[(0, 2554710),\n",
              " (1, 2540660),\n",
              " (2, 2562385),\n",
              " (3, 2545740),\n",
              " (4, 2543400),\n",
              " (5, 2569725),\n",
              " (6, 2559895),\n",
              " (7, 2563020),\n",
              " (8, 2580355),\n",
              " (9, 2565660),\n",
              " (10, 2525035),\n",
              " (11, 2561655),\n",
              " (12, 2567315),\n",
              " (13, 2548960),\n",
              " (14, 2561640),\n",
              " (15, 2544125),\n",
              " (16, 2566590),\n",
              " (17, 2561645),\n",
              " (18, 2573245),\n",
              " (19, 2564715),\n",
              " (20, 2561125),\n",
              " (21, 2597905),\n",
              " (22, 2546515),\n",
              " (23, 2566060),\n",
              " (24, 2580670),\n",
              " (25, 2553140),\n",
              " (26, 2551620),\n",
              " (27, 2577430),\n",
              " (28, 2560910),\n",
              " (29, 2564450),\n",
              " (30, 2572195),\n",
              " (31, 2572830),\n",
              " (32, 2566775),\n",
              " (33, 2551710),\n",
              " (34, 2561460),\n",
              " (35, 2572100),\n",
              " (36, 2541460),\n",
              " (37, 2560805),\n",
              " (38, 2566170),\n",
              " (39, 2527425)]"
            ]
          },
          "metadata": {},
          "execution_count": 29
        }
      ]
    },
    {
      "cell_type": "code",
      "source": [
        "output_directory = \"/content/outputDirectory\"\n",
        "\n",
        "# Combine all partitions into a single partition\n",
        "vodafone_reducer_single_partition = vodafone_reducer.coalesce(1)\n",
        "\n",
        "# Save the reducer result to a single text file named \"out.txt\"\n",
        "vodafone_reducer_single_partition.saveAsTextFile(output_directory)\n",
        "\n",
        "# Rename the part-00000 file to out.txt\n",
        "import os\n",
        "os.rename(output_directory + \"/part-00000\", output_directory + \"/out.txt\")"
      ],
      "metadata": {
        "id": "LIZPcKBzlCoO"
      },
      "execution_count": 34,
      "outputs": []
    }
  ]
}